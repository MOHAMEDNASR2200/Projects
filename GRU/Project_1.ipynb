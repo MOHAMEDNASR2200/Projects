{
  "nbformat": 4,
  "nbformat_minor": 0,
  "metadata": {
    "colab": {
      "provenance": []
    },
    "kernelspec": {
      "name": "python3",
      "display_name": "Python 3"
    },
    "language_info": {
      "name": "python"
    }
  },
  "cells": [
    {
      "cell_type": "code",
      "execution_count": 154,
      "metadata": {
        "id": "DlVuM4mzf0Du"
      },
      "outputs": [],
      "source": [
        "import numpy as np\n",
        "import pandas as pd\n",
        "data=pd.read_csv(\"/content/weatherHistory.csv\")"
      ]
    },
    {
      "cell_type": "code",
      "source": [
        "print(data.describe())"
      ],
      "metadata": {
        "colab": {
          "base_uri": "https://localhost:8080/"
        },
        "id": "FeSJRU8blFHA",
        "outputId": "ca695f89-9214-4ed7-92b4-92a80fdaa485"
      },
      "execution_count": 155,
      "outputs": [
        {
          "output_type": "stream",
          "name": "stdout",
          "text": [
            "       Temperature (C)  Apparent Temperature (C)      Humidity  \\\n",
            "count     96453.000000              96453.000000  96453.000000   \n",
            "mean         11.932678                 10.855029      0.734899   \n",
            "std           9.551546                 10.696847      0.195473   \n",
            "min         -21.822222                -27.716667      0.000000   \n",
            "25%           4.688889                  2.311111      0.600000   \n",
            "50%          12.000000                 12.000000      0.780000   \n",
            "75%          18.838889                 18.838889      0.890000   \n",
            "max          39.905556                 39.344444      1.000000   \n",
            "\n",
            "       Wind Speed (km/h)  Wind Bearing (degrees)  Visibility (km)  Loud Cover  \\\n",
            "count       96453.000000            96453.000000     96453.000000     96453.0   \n",
            "mean           10.810640              187.509232        10.347325         0.0   \n",
            "std             6.913571              107.383428         4.192123         0.0   \n",
            "min             0.000000                0.000000         0.000000         0.0   \n",
            "25%             5.828200              116.000000         8.339800         0.0   \n",
            "50%             9.965900              180.000000        10.046400         0.0   \n",
            "75%            14.135800              290.000000        14.812000         0.0   \n",
            "max            63.852600              359.000000        16.100000         0.0   \n",
            "\n",
            "       Pressure (millibars)  \n",
            "count          96453.000000  \n",
            "mean            1003.235956  \n",
            "std              116.969906  \n",
            "min                0.000000  \n",
            "25%             1011.900000  \n",
            "50%             1016.450000  \n",
            "75%             1021.090000  \n",
            "max             1046.380000  \n"
          ]
        }
      ]
    },
    {
      "cell_type": "code",
      "source": [
        "print(data.info())\n",
        "#NO null values found"
      ],
      "metadata": {
        "colab": {
          "base_uri": "https://localhost:8080/"
        },
        "id": "nnJ3pAF0lK4i",
        "outputId": "694b1854-e9e3-4616-e745-4155b974580e"
      },
      "execution_count": 156,
      "outputs": [
        {
          "output_type": "stream",
          "name": "stdout",
          "text": [
            "<class 'pandas.core.frame.DataFrame'>\n",
            "RangeIndex: 96453 entries, 0 to 96452\n",
            "Data columns (total 12 columns):\n",
            " #   Column                    Non-Null Count  Dtype  \n",
            "---  ------                    --------------  -----  \n",
            " 0   Formatted Date            96453 non-null  object \n",
            " 1   Summary                   96453 non-null  object \n",
            " 2   Precip Type               95936 non-null  object \n",
            " 3   Temperature (C)           96453 non-null  float64\n",
            " 4   Apparent Temperature (C)  96453 non-null  float64\n",
            " 5   Humidity                  96453 non-null  float64\n",
            " 6   Wind Speed (km/h)         96453 non-null  float64\n",
            " 7   Wind Bearing (degrees)    96453 non-null  float64\n",
            " 8   Visibility (km)           96453 non-null  float64\n",
            " 9   Loud Cover                96453 non-null  float64\n",
            " 10  Pressure (millibars)      96453 non-null  float64\n",
            " 11  Daily Summary             96453 non-null  object \n",
            "dtypes: float64(8), object(4)\n",
            "memory usage: 8.8+ MB\n",
            "None\n"
          ]
        }
      ]
    },
    {
      "cell_type": "code",
      "source": [
        "numerical_data=data.select_dtypes(include=['number'])"
      ],
      "metadata": {
        "id": "WDXZi98-ls-1"
      },
      "execution_count": 157,
      "outputs": []
    },
    {
      "cell_type": "code",
      "source": [
        "import matplotlib.pyplot as plt\n",
        "for i in numerical_data.columns:\n",
        "  print(i)\n",
        "  plt.boxplot(data[i])\n",
        "  plt.show()\n",
        "  Q1=data[i].quantile(0.25)\n",
        "  Q3=data[i].quantile(0.75)\n",
        "  IQR = Q3 - Q1\n",
        "  lower_bound = Q1 - 1.5 * IQR\n",
        "  upper_bound = Q3 + 1.5 * IQR\n",
        "  data[i].loc[data[i]<lower_bound]=lower_bound\n",
        "  data[i].loc[data[i]>upper_bound]=upper_bound\n",
        "#Outliers are handled"
      ],
      "metadata": {
        "colab": {
          "base_uri": "https://localhost:8080/",
          "height": 1000
        },
        "id": "_kWurB8Gltgt",
        "outputId": "c5575fe0-9452-435a-f815-9559a2f05fa7"
      },
      "execution_count": 158,
      "outputs": [
        {
          "output_type": "stream",
          "name": "stdout",
          "text": [
            "Temperature (C)\n"
          ]
        },
        {
          "output_type": "display_data",
          "data": {
            "text/plain": [
              "<Figure size 640x480 with 1 Axes>"
            ],
            "image/png": "[encoded data removed]"
          },
          "metadata": {}
        },
        {
          "output_type": "stream",
          "name": "stdout",
          "text": [
            "Apparent Temperature (C)\n"
          ]
        },
        {
          "output_type": "stream",
          "name": "stderr",
          "text": [
            "<ipython-input-158-5e9a99b0e568>:11: FutureWarning: ChainedAssignmentError: behaviour will change in pandas 3.0!\n",
            "You are setting values through chained assignment. Currently this works in certain cases, but when using Copy-on-Write (which will become the default behaviour in pandas 3.0) this will never work to update the original DataFrame or Series, because the intermediate object on which we are setting values will behave as a copy.\n",
            "A typical example is when you are setting values in a column of a DataFrame, like:\n",
            "\n",
            "df[\"col\"][row_indexer] = value\n",
            "\n",
            "Use `df.loc[row_indexer, \"col\"] = values` instead, to perform the assignment in a single step and ensure this keeps updating the original `df`.\n",
            "\n",
            "See the caveats in the documentation: https://pandas.pydata.org/pandas-docs/stable/user_guide/indexing.html#returning-a-view-versus-a-copy\n",
            "\n",
            "  data[i].loc[data[i]<lower_bound]=lower_bound\n",
            "<ipython-input-158-5e9a99b0e568>:11: SettingWithCopyWarning: \n",
            "A value is trying to be set on a copy of a slice from a DataFrame\n",
            "\n",
            "See the caveats in the documentation: https://pandas.pydata.org/pandas-docs/stable/user_guide/indexing.html#returning-a-view-versus-a-copy\n",
            "  data[i].loc[data[i]<lower_bound]=lower_bound\n",
            "<ipython-input-158-5e9a99b0e568>:12: FutureWarning: ChainedAssignmentError: behaviour will change in pandas 3.0!\n",
            "You are setting values through chained assignment. Currently this works in certain cases, but when using Copy-on-Write (which will become the default behaviour in pandas 3.0) this will never work to update the original DataFrame or Series, because the intermediate object on which we are setting values will behave as a copy.\n",
            "A typical example is when you are setting values in a column of a DataFrame, like:\n",
            "\n",
            "df[\"col\"][row_indexer] = value\n",
            "\n",
            "Use `df.loc[row_indexer, \"col\"] = values` instead, to perform the assignment in a single step and ensure this keeps updating the original `df`.\n",
            "\n",
            "See the caveats in the documentation: https://pandas.pydata.org/pandas-docs/stable/user_guide/indexing.html#returning-a-view-versus-a-copy\n",
            "\n",
            "  data[i].loc[data[i]>upper_bound]=upper_bound\n",
            "<ipython-input-158-5e9a99b0e568>:12: SettingWithCopyWarning: \n",
            "A value is trying to be set on a copy of a slice from a DataFrame\n",
            "\n",
            "See the caveats in the documentation: https://pandas.pydata.org/pandas-docs/stable/user_guide/indexing.html#returning-a-view-versus-a-copy\n",
            "  data[i].loc[data[i]>upper_bound]=upper_bound\n"
          ]
        },
        {
          "output_type": "display_data",
          "data": {
            "text/plain": [
              "<Figure size 640x480 with 1 Axes>"
            ],
            "image/png": "[encoded data removed]"
          },
          "metadata": {}
        },
        {
          "output_type": "stream",
          "name": "stderr",
          "text": [
            "<ipython-input-158-5e9a99b0e568>:11: FutureWarning: ChainedAssignmentError: behaviour will change in pandas 3.0!\n",
            "You are setting values through chained assignment. Currently this works in certain cases, but when using Copy-on-Write (which will become the default behaviour in pandas 3.0) this will never work to update the original DataFrame or Series, because the intermediate object on which we are setting values will behave as a copy.\n",
            "A typical example is when you are setting values in a column of a DataFrame, like:\n",
            "\n",
            "df[\"col\"][row_indexer] = value\n",
            "\n",
            "Use `df.loc[row_indexer, \"col\"] = values` instead, to perform the assignment in a single step and ensure this keeps updating the original `df`.\n",
            "\n",
            "See the caveats in the documentation: https://pandas.pydata.org/pandas-docs/stable/user_guide/indexing.html#returning-a-view-versus-a-copy\n",
            "\n",
            "  data[i].loc[data[i]<lower_bound]=lower_bound\n",
            "<ipython-input-158-5e9a99b0e568>:11: SettingWithCopyWarning: \n",
            "A value is trying to be set on a copy of a slice from a DataFrame\n",
            "\n",
            "See the caveats in the documentation: https://pandas.pydata.org/pandas-docs/stable/user_guide/indexing.html#returning-a-view-versus-a-copy\n",
            "  data[i].loc[data[i]<lower_bound]=lower_bound\n",
            "<ipython-input-158-5e9a99b0e568>:12: FutureWarning: ChainedAssignmentError: behaviour will change in pandas 3.0!\n",
            "You are setting values through chained assignment. Currently this works in certain cases, but when using Copy-on-Write (which will become the default behaviour in pandas 3.0) this will never work to update the original DataFrame or Series, because the intermediate object on which we are setting values will behave as a copy.\n",
            "A typical example is when you are setting values in a column of a DataFrame, like:\n",
            "\n",
            "df[\"col\"][row_indexer] = value\n",
            "\n",
            "Use `df.loc[row_indexer, \"col\"] = values` instead, to perform the assignment in a single step and ensure this keeps updating the original `df`.\n",
            "\n",
            "See the caveats in the documentation: https://pandas.pydata.org/pandas-docs/stable/user_guide/indexing.html#returning-a-view-versus-a-copy\n",
            "\n",
            "  data[i].loc[data[i]>upper_bound]=upper_bound\n",
            "<ipython-input-158-5e9a99b0e568>:12: SettingWithCopyWarning: \n",
            "A value is trying to be set on a copy of a slice from a DataFrame\n",
            "\n",
            "See the caveats in the documentation: https://pandas.pydata.org/pandas-docs/stable/user_guide/indexing.html#returning-a-view-versus-a-copy\n",
            "  data[i].loc[data[i]>upper_bound]=upper_bound\n"
          ]
        },
        {
          "output_type": "stream",
          "name": "stdout",
          "text": [
            "Humidity\n"
          ]
        },
        {
          "output_type": "display_data",
          "data": {
            "text/plain": [
              "<Figure size 640x480 with 1 Axes>"
            ],
            "image/png": "[encoded data removed]"
          },
          "metadata": {}
        },
        {
          "output_type": "stream",
          "name": "stderr",
          "text": [
            "<ipython-input-158-5e9a99b0e568>:11: FutureWarning: ChainedAssignmentError: behaviour will change in pandas 3.0!\n",
            "You are setting values through chained assignment. Currently this works in certain cases, but when using Copy-on-Write (which will become the default behaviour in pandas 3.0) this will never work to update the original DataFrame or Series, because the intermediate object on which we are setting values will behave as a copy.\n",
            "A typical example is when you are setting values in a column of a DataFrame, like:\n",
            "\n",
            "df[\"col\"][row_indexer] = value\n",
            "\n",
            "Use `df.loc[row_indexer, \"col\"] = values` instead, to perform the assignment in a single step and ensure this keeps updating the original `df`.\n",
            "\n",
            "See the caveats in the documentation: https://pandas.pydata.org/pandas-docs/stable/user_guide/indexing.html#returning-a-view-versus-a-copy\n",
            "\n",
            "  data[i].loc[data[i]<lower_bound]=lower_bound\n",
            "<ipython-input-158-5e9a99b0e568>:11: SettingWithCopyWarning: \n",
            "A value is trying to be set on a copy of a slice from a DataFrame\n",
            "\n",
            "See the caveats in the documentation: https://pandas.pydata.org/pandas-docs/stable/user_guide/indexing.html#returning-a-view-versus-a-copy\n",
            "  data[i].loc[data[i]<lower_bound]=lower_bound\n",
            "<ipython-input-158-5e9a99b0e568>:12: FutureWarning: ChainedAssignmentError: behaviour will change in pandas 3.0!\n",
            "You are setting values through chained assignment. Currently this works in certain cases, but when using Copy-on-Write (which will become the default behaviour in pandas 3.0) this will never work to update the original DataFrame or Series, because the intermediate object on which we are setting values will behave as a copy.\n",
            "A typical example is when you are setting values in a column of a DataFrame, like:\n",
            "\n",
            "df[\"col\"][row_indexer] = value\n",
            "\n",
            "Use `df.loc[row_indexer, \"col\"] = values` instead, to perform the assignment in a single step and ensure this keeps updating the original `df`.\n",
            "\n",
            "See the caveats in the documentation: https://pandas.pydata.org/pandas-docs/stable/user_guide/indexing.html#returning-a-view-versus-a-copy\n",
            "\n",
            "  data[i].loc[data[i]>upper_bound]=upper_bound\n",
            "<ipython-input-158-5e9a99b0e568>:12: SettingWithCopyWarning: \n",
            "A value is trying to be set on a copy of a slice from a DataFrame\n",
            "\n",
            "See the caveats in the documentation: https://pandas.pydata.org/pandas-docs/stable/user_guide/indexing.html#returning-a-view-versus-a-copy\n",
            "  data[i].loc[data[i]>upper_bound]=upper_bound\n"
          ]
        },
        {
          "output_type": "stream",
          "name": "stdout",
          "text": [
            "Wind Speed (km/h)\n"
          ]
        },
        {
          "output_type": "display_data",
          "data": {
            "text/plain": [
              "<Figure size 640x480 with 1 Axes>"
            ],
            "image/png": "[encoded data removed]"
          },
          "metadata": {}
        },
        {
          "output_type": "stream",
          "name": "stderr",
          "text": [
            "<ipython-input-158-5e9a99b0e568>:11: FutureWarning: ChainedAssignmentError: behaviour will change in pandas 3.0!\n",
            "You are setting values through chained assignment. Currently this works in certain cases, but when using Copy-on-Write (which will become the default behaviour in pandas 3.0) this will never work to update the original DataFrame or Series, because the intermediate object on which we are setting values will behave as a copy.\n",
            "A typical example is when you are setting values in a column of a DataFrame, like:\n",
            "\n",
            "df[\"col\"][row_indexer] = value\n",
            "\n",
            "Use `df.loc[row_indexer, \"col\"] = values` instead, to perform the assignment in a single step and ensure this keeps updating the original `df`.\n",
            "\n",
            "See the caveats in the documentation: https://pandas.pydata.org/pandas-docs/stable/user_guide/indexing.html#returning-a-view-versus-a-copy\n",
            "\n",
            "  data[i].loc[data[i]<lower_bound]=lower_bound\n",
            "<ipython-input-158-5e9a99b0e568>:11: SettingWithCopyWarning: \n",
            "A value is trying to be set on a copy of a slice from a DataFrame\n",
            "\n",
            "See the caveats in the documentation: https://pandas.pydata.org/pandas-docs/stable/user_guide/indexing.html#returning-a-view-versus-a-copy\n",
            "  data[i].loc[data[i]<lower_bound]=lower_bound\n",
            "<ipython-input-158-5e9a99b0e568>:12: FutureWarning: ChainedAssignmentError: behaviour will change in pandas 3.0!\n",
            "You are setting values through chained assignment. Currently this works in certain cases, but when using Copy-on-Write (which will become the default behaviour in pandas 3.0) this will never work to update the original DataFrame or Series, because the intermediate object on which we are setting values will behave as a copy.\n",
            "A typical example is when you are setting values in a column of a DataFrame, like:\n",
            "\n",
            "df[\"col\"][row_indexer] = value\n",
            "\n",
            "Use `df.loc[row_indexer, \"col\"] = values` instead, to perform the assignment in a single step and ensure this keeps updating the original `df`.\n",
            "\n",
            "See the caveats in the documentation: https://pandas.pydata.org/pandas-docs/stable/user_guide/indexing.html#returning-a-view-versus-a-copy\n",
            "\n",
            "  data[i].loc[data[i]>upper_bound]=upper_bound\n",
            "<ipython-input-158-5e9a99b0e568>:12: SettingWithCopyWarning: \n",
            "A value is trying to be set on a copy of a slice from a DataFrame\n",
            "\n",
            "See the caveats in the documentation: https://pandas.pydata.org/pandas-docs/stable/user_guide/indexing.html#returning-a-view-versus-a-copy\n",
            "  data[i].loc[data[i]>upper_bound]=upper_bound\n"
          ]
        },
        {
          "output_type": "stream",
          "name": "stdout",
          "text": [
            "Wind Bearing (degrees)\n"
          ]
        },
        {
          "output_type": "display_data",
          "data": {
            "text/plain": [
              "<Figure size 640x480 with 1 Axes>"
            ],
            "image/png": "[encoded data removed]"
          },
          "metadata": {}
        },
        {
          "output_type": "stream",
          "name": "stderr",
          "text": [
            "<ipython-input-158-5e9a99b0e568>:11: FutureWarning: ChainedAssignmentError: behaviour will change in pandas 3.0!\n",
            "You are setting values through chained assignment. Currently this works in certain cases, but when using Copy-on-Write (which will become the default behaviour in pandas 3.0) this will never work to update the original DataFrame or Series, because the intermediate object on which we are setting values will behave as a copy.\n",
            "A typical example is when you are setting values in a column of a DataFrame, like:\n",
            "\n",
            "df[\"col\"][row_indexer] = value\n",
            "\n",
            "Use `df.loc[row_indexer, \"col\"] = values` instead, to perform the assignment in a single step and ensure this keeps updating the original `df`.\n",
            "\n",
            "See the caveats in the documentation: https://pandas.pydata.org/pandas-docs/stable/user_guide/indexing.html#returning-a-view-versus-a-copy\n",
            "\n",
            "  data[i].loc[data[i]<lower_bound]=lower_bound\n",
            "<ipython-input-158-5e9a99b0e568>:11: SettingWithCopyWarning: \n",
            "A value is trying to be set on a copy of a slice from a DataFrame\n",
            "\n",
            "See the caveats in the documentation: https://pandas.pydata.org/pandas-docs/stable/user_guide/indexing.html#returning-a-view-versus-a-copy\n",
            "  data[i].loc[data[i]<lower_bound]=lower_bound\n",
            "<ipython-input-158-5e9a99b0e568>:12: FutureWarning: ChainedAssignmentError: behaviour will change in pandas 3.0!\n",
            "You are setting values through chained assignment. Currently this works in certain cases, but when using Copy-on-Write (which will become the default behaviour in pandas 3.0) this will never work to update the original DataFrame or Series, because the intermediate object on which we are setting values will behave as a copy.\n",
            "A typical example is when you are setting values in a column of a DataFrame, like:\n",
            "\n",
            "df[\"col\"][row_indexer] = value\n",
            "\n",
            "Use `df.loc[row_indexer, \"col\"] = values` instead, to perform the assignment in a single step and ensure this keeps updating the original `df`.\n",
            "\n",
            "See the caveats in the documentation: https://pandas.pydata.org/pandas-docs/stable/user_guide/indexing.html#returning-a-view-versus-a-copy\n",
            "\n",
            "  data[i].loc[data[i]>upper_bound]=upper_bound\n",
            "<ipython-input-158-5e9a99b0e568>:12: SettingWithCopyWarning: \n",
            "A value is trying to be set on a copy of a slice from a DataFrame\n",
            "\n",
            "See the caveats in the documentation: https://pandas.pydata.org/pandas-docs/stable/user_guide/indexing.html#returning-a-view-versus-a-copy\n",
            "  data[i].loc[data[i]>upper_bound]=upper_bound\n"
          ]
        },
        {
          "output_type": "stream",
          "name": "stdout",
          "text": [
            "Visibility (km)\n"
          ]
        },
        {
          "output_type": "display_data",
          "data": {
            "text/plain": [
              "<Figure size 640x480 with 1 Axes>"
            ],
            "image/png": "[encoded data removed]"
          },
          "metadata": {}
        },
        {
          "output_type": "stream",
          "name": "stdout",
          "text": [
            "Loud Cover\n"
          ]
        },
        {
          "output_type": "stream",
          "name": "stderr",
          "text": [
            "<ipython-input-158-5e9a99b0e568>:11: FutureWarning: ChainedAssignmentError: behaviour will change in pandas 3.0!\n",
            "You are setting values through chained assignment. Currently this works in certain cases, but when using Copy-on-Write (which will become the default behaviour in pandas 3.0) this will never work to update the original DataFrame or Series, because the intermediate object on which we are setting values will behave as a copy.\n",
            "A typical example is when you are setting values in a column of a DataFrame, like:\n",
            "\n",
            "df[\"col\"][row_indexer] = value\n",
            "\n",
            "Use `df.loc[row_indexer, \"col\"] = values` instead, to perform the assignment in a single step and ensure this keeps updating the original `df`.\n",
            "\n",
            "See the caveats in the documentation: https://pandas.pydata.org/pandas-docs/stable/user_guide/indexing.html#returning-a-view-versus-a-copy\n",
            "\n",
            "  data[i].loc[data[i]<lower_bound]=lower_bound\n",
            "<ipython-input-158-5e9a99b0e568>:11: SettingWithCopyWarning: \n",
            "A value is trying to be set on a copy of a slice from a DataFrame\n",
            "\n",
            "See the caveats in the documentation: https://pandas.pydata.org/pandas-docs/stable/user_guide/indexing.html#returning-a-view-versus-a-copy\n",
            "  data[i].loc[data[i]<lower_bound]=lower_bound\n",
            "<ipython-input-158-5e9a99b0e568>:12: FutureWarning: ChainedAssignmentError: behaviour will change in pandas 3.0!\n",
            "You are setting values through chained assignment. Currently this works in certain cases, but when using Copy-on-Write (which will become the default behaviour in pandas 3.0) this will never work to update the original DataFrame or Series, because the intermediate object on which we are setting values will behave as a copy.\n",
            "A typical example is when you are setting values in a column of a DataFrame, like:\n",
            "\n",
            "df[\"col\"][row_indexer] = value\n",
            "\n",
            "Use `df.loc[row_indexer, \"col\"] = values` instead, to perform the assignment in a single step and ensure this keeps updating the original `df`.\n",
            "\n",
            "See the caveats in the documentation: https://pandas.pydata.org/pandas-docs/stable/user_guide/indexing.html#returning-a-view-versus-a-copy\n",
            "\n",
            "  data[i].loc[data[i]>upper_bound]=upper_bound\n",
            "<ipython-input-158-5e9a99b0e568>:12: SettingWithCopyWarning: \n",
            "A value is trying to be set on a copy of a slice from a DataFrame\n",
            "\n",
            "See the caveats in the documentation: https://pandas.pydata.org/pandas-docs/stable/user_guide/indexing.html#returning-a-view-versus-a-copy\n",
            "  data[i].loc[data[i]>upper_bound]=upper_bound\n"
          ]
        },
        {
          "output_type": "display_data",
          "data": {
            "text/plain": [
              "<Figure size 640x480 with 1 Axes>"
            ],
            "image/png": "[encoded data removed]"
          },
          "metadata": {}
        },
        {
          "output_type": "stream",
          "name": "stderr",
          "text": [
            "<ipython-input-158-5e9a99b0e568>:11: FutureWarning: ChainedAssignmentError: behaviour will change in pandas 3.0!\n",
            "You are setting values through chained assignment. Currently this works in certain cases, but when using Copy-on-Write (which will become the default behaviour in pandas 3.0) this will never work to update the original DataFrame or Series, because the intermediate object on which we are setting values will behave as a copy.\n",
            "A typical example is when you are setting values in a column of a DataFrame, like:\n",
            "\n",
            "df[\"col\"][row_indexer] = value\n",
            "\n",
            "Use `df.loc[row_indexer, \"col\"] = values` instead, to perform the assignment in a single step and ensure this keeps updating the original `df`.\n",
            "\n",
            "See the caveats in the documentation: https://pandas.pydata.org/pandas-docs/stable/user_guide/indexing.html#returning-a-view-versus-a-copy\n",
            "\n",
            "  data[i].loc[data[i]<lower_bound]=lower_bound\n",
            "<ipython-input-158-5e9a99b0e568>:11: SettingWithCopyWarning: \n",
            "A value is trying to be set on a copy of a slice from a DataFrame\n",
            "\n",
            "See the caveats in the documentation: https://pandas.pydata.org/pandas-docs/stable/user_guide/indexing.html#returning-a-view-versus-a-copy\n",
            "  data[i].loc[data[i]<lower_bound]=lower_bound\n",
            "<ipython-input-158-5e9a99b0e568>:12: FutureWarning: ChainedAssignmentError: behaviour will change in pandas 3.0!\n",
            "You are setting values through chained assignment. Currently this works in certain cases, but when using Copy-on-Write (which will become the default behaviour in pandas 3.0) this will never work to update the original DataFrame or Series, because the intermediate object on which we are setting values will behave as a copy.\n",
            "A typical example is when you are setting values in a column of a DataFrame, like:\n",
            "\n",
            "df[\"col\"][row_indexer] = value\n",
            "\n",
            "Use `df.loc[row_indexer, \"col\"] = values` instead, to perform the assignment in a single step and ensure this keeps updating the original `df`.\n",
            "\n",
            "See the caveats in the documentation: https://pandas.pydata.org/pandas-docs/stable/user_guide/indexing.html#returning-a-view-versus-a-copy\n",
            "\n",
            "  data[i].loc[data[i]>upper_bound]=upper_bound\n",
            "<ipython-input-158-5e9a99b0e568>:12: SettingWithCopyWarning: \n",
            "A value is trying to be set on a copy of a slice from a DataFrame\n",
            "\n",
            "See the caveats in the documentation: https://pandas.pydata.org/pandas-docs/stable/user_guide/indexing.html#returning-a-view-versus-a-copy\n",
            "  data[i].loc[data[i]>upper_bound]=upper_bound\n"
          ]
        },
        {
          "output_type": "stream",
          "name": "stdout",
          "text": [
            "Pressure (millibars)\n"
          ]
        },
        {
          "output_type": "display_data",
          "data": {
            "text/plain": [
              "<Figure size 640x480 with 1 Axes>"
            ],
            "image/png": "[encoded data removed]"
          },
          "metadata": {}
        },
        {
          "output_type": "stream",
          "name": "stderr",
          "text": [
            "<ipython-input-158-5e9a99b0e568>:11: FutureWarning: ChainedAssignmentError: behaviour will change in pandas 3.0!\n",
            "You are setting values through chained assignment. Currently this works in certain cases, but when using Copy-on-Write (which will become the default behaviour in pandas 3.0) this will never work to update the original DataFrame or Series, because the intermediate object on which we are setting values will behave as a copy.\n",
            "A typical example is when you are setting values in a column of a DataFrame, like:\n",
            "\n",
            "df[\"col\"][row_indexer] = value\n",
            "\n",
            "Use `df.loc[row_indexer, \"col\"] = values` instead, to perform the assignment in a single step and ensure this keeps updating the original `df`.\n",
            "\n",
            "See the caveats in the documentation: https://pandas.pydata.org/pandas-docs/stable/user_guide/indexing.html#returning-a-view-versus-a-copy\n",
            "\n",
            "  data[i].loc[data[i]<lower_bound]=lower_bound\n",
            "<ipython-input-158-5e9a99b0e568>:11: SettingWithCopyWarning: \n",
            "A value is trying to be set on a copy of a slice from a DataFrame\n",
            "\n",
            "See the caveats in the documentation: https://pandas.pydata.org/pandas-docs/stable/user_guide/indexing.html#returning-a-view-versus-a-copy\n",
            "  data[i].loc[data[i]<lower_bound]=lower_bound\n",
            "<ipython-input-158-5e9a99b0e568>:12: FutureWarning: ChainedAssignmentError: behaviour will change in pandas 3.0!\n",
            "You are setting values through chained assignment. Currently this works in certain cases, but when using Copy-on-Write (which will become the default behaviour in pandas 3.0) this will never work to update the original DataFrame or Series, because the intermediate object on which we are setting values will behave as a copy.\n",
            "A typical example is when you are setting values in a column of a DataFrame, like:\n",
            "\n",
            "df[\"col\"][row_indexer] = value\n",
            "\n",
            "Use `df.loc[row_indexer, \"col\"] = values` instead, to perform the assignment in a single step and ensure this keeps updating the original `df`.\n",
            "\n",
            "See the caveats in the documentation: https://pandas.pydata.org/pandas-docs/stable/user_guide/indexing.html#returning-a-view-versus-a-copy\n",
            "\n",
            "  data[i].loc[data[i]>upper_bound]=upper_bound\n",
            "<ipython-input-158-5e9a99b0e568>:12: SettingWithCopyWarning: \n",
            "A value is trying to be set on a copy of a slice from a DataFrame\n",
            "\n",
            "See the caveats in the documentation: https://pandas.pydata.org/pandas-docs/stable/user_guide/indexing.html#returning-a-view-versus-a-copy\n",
            "  data[i].loc[data[i]>upper_bound]=upper_bound\n"
          ]
        }
      ]
    },
    {
      "cell_type": "code",
      "source": [
        "data[\"Year\"]=data[\"Formatted Date\"].str[:4].astype(int)\n",
        "data[\"Month\"]=data[\"Formatted Date\"].str[5:7].astype(int)\n",
        "data[\"Day\"]=data[\"Formatted Date\"].str[8:10].astype(int)\n",
        "data[\"Hour\"]=data[\"Formatted Date\"].str[11:13].astype(int)\n",
        "data.drop(columns=[\"Formatted Date\"], inplace=True)"
      ],
      "metadata": {
        "id": "a5oCY-KWlt8L"
      },
      "execution_count": 159,
      "outputs": []
    },
    {
      "cell_type": "code",
      "source": [
        "object_data=data.select_dtypes(exclude=['number'])\n",
        "for j in object_data.columns:\n",
        "  print(j)\n",
        "  print(data[j].nunique())\n",
        "  print(data[j].unique())\n",
        "print(data.info())"
      ],
      "metadata": {
        "colab": {
          "base_uri": "https://localhost:8080/"
        },
        "id": "3IMdcVaAlues",
        "outputId": "b903a91d-c81e-401a-cd95-1d5efe91598a"
      },
      "execution_count": 160,
      "outputs": [
        {
          "output_type": "stream",
          "name": "stdout",
          "text": [
            "Summary\n",
            "27\n",
            "['Partly Cloudy' 'Mostly Cloudy' 'Overcast' 'Foggy'\n",
            " 'Breezy and Mostly Cloudy' 'Clear' 'Breezy and Partly Cloudy'\n",
            " 'Breezy and Overcast' 'Humid and Mostly Cloudy' 'Humid and Partly Cloudy'\n",
            " 'Windy and Foggy' 'Windy and Overcast' 'Breezy and Foggy'\n",
            " 'Windy and Partly Cloudy' 'Breezy' 'Dry and Partly Cloudy'\n",
            " 'Windy and Mostly Cloudy' 'Dangerously Windy and Partly Cloudy' 'Dry'\n",
            " 'Windy' 'Humid and Overcast' 'Light Rain' 'Drizzle' 'Windy and Dry'\n",
            " 'Dry and Mostly Cloudy' 'Breezy and Dry' 'Rain']\n",
            "Precip Type\n",
            "2\n",
            "['rain' 'snow' nan]\n",
            "Daily Summary\n",
            "214\n",
            "['Partly cloudy throughout the day.' 'Mostly cloudy throughout the day.'\n",
            " 'Foggy in the evening.' 'Foggy overnight and breezy in the morning.'\n",
            " 'Overcast throughout the day.' 'Partly cloudy until night.'\n",
            " 'Mostly cloudy until night.'\n",
            " 'Foggy starting overnight continuing until morning.'\n",
            " 'Foggy in the morning.' 'Partly cloudy until evening.'\n",
            " 'Partly cloudy starting in the morning.'\n",
            " 'Mostly cloudy starting overnight continuing until night.'\n",
            " 'Mostly cloudy until evening.'\n",
            " 'Partly cloudy starting in the morning continuing until evening.'\n",
            " 'Partly cloudy starting in the afternoon.'\n",
            " 'Partly cloudy starting overnight.' 'Partly cloudy until morning.'\n",
            " 'Partly cloudy starting overnight continuing until night.'\n",
            " 'Partly cloudy starting in the afternoon continuing until night.'\n",
            " 'Mostly cloudy starting overnight.' 'Partly cloudy until afternoon.'\n",
            " 'Mostly cloudy until night and breezy in the afternoon.'\n",
            " 'Foggy starting in the evening.' 'Foggy throughout the day.'\n",
            " 'Foggy starting in the evening continuing until night.'\n",
            " 'Mostly cloudy until morning.'\n",
            " 'Foggy starting in the morning continuing until evening.'\n",
            " 'Foggy starting overnight continuing until afternoon.'\n",
            " 'Partly cloudy starting in the morning continuing until afternoon.'\n",
            " 'Foggy starting overnight.' 'Foggy until morning.'\n",
            " 'Foggy starting overnight continuing until evening.'\n",
            " 'Foggy starting in the afternoon.'\n",
            " 'Partly cloudy starting overnight continuing until afternoon.'\n",
            " 'Partly cloudy starting in the morning continuing until night.'\n",
            " 'Overcast until night.'\n",
            " 'Mostly cloudy starting overnight continuing until evening.'\n",
            " 'Foggy overnight.' 'Partly cloudy in the morning.'\n",
            " 'Mostly cloudy starting in the morning.'\n",
            " 'Foggy starting in the afternoon continuing until evening.'\n",
            " 'Mostly cloudy until afternoon.'\n",
            " 'Foggy starting overnight continuing until night.'\n",
            " 'Mostly cloudy throughout the day and breezy in the evening.'\n",
            " 'Foggy starting in the morning continuing until afternoon.'\n",
            " 'Partly cloudy in the afternoon.' 'Clear throughout the day.'\n",
            " 'Partly cloudy starting in the afternoon continuing until evening.'\n",
            " 'Partly cloudy overnight.' 'Overcast until evening.'\n",
            " 'Foggy in the morning and breezy starting in the afternoon continuing until night.'\n",
            " 'Breezy starting overnight continuing until afternoon and foggy starting in the morning continuing until evening.'\n",
            " 'Partly cloudy starting overnight continuing until morning.'\n",
            " 'Mostly cloudy throughout the day and breezy in the afternoon.'\n",
            " 'Mostly cloudy starting overnight and breezy in the afternoon.'\n",
            " 'Partly cloudy throughout the day and breezy starting in the morning continuing until night.'\n",
            " 'Mostly cloudy throughout the day and breezy in the morning.'\n",
            " 'Partly cloudy starting in the evening continuing until night.'\n",
            " 'Mostly cloudy until night and breezy starting in the morning continuing until afternoon.'\n",
            " 'Partly cloudy starting in the morning continuing until evening and breezy starting in the morning continuing until afternoon.'\n",
            " 'Partly cloudy throughout the day and breezy starting in the morning continuing until afternoon.'\n",
            " 'Partly cloudy throughout the day and breezy starting in the morning continuing until evening.'\n",
            " 'Foggy until afternoon.' 'Overcast until night and breezy overnight.'\n",
            " 'Breezy until morning and mostly cloudy throughout the day.'\n",
            " 'Mostly cloudy starting in the morning continuing until night.'\n",
            " 'Breezy starting overnight continuing until morning and partly cloudy starting overnight continuing until evening.'\n",
            " 'Partly cloudy in the evening.'\n",
            " 'Mostly cloudy starting overnight continuing until afternoon.'\n",
            " 'Mostly cloudy starting in the morning continuing until afternoon.'\n",
            " 'Mostly cloudy starting in the afternoon.'\n",
            " 'Mostly cloudy starting in the morning continuing until evening.'\n",
            " 'Partly cloudy starting overnight continuing until afternoon and breezy in the afternoon.'\n",
            " 'Partly cloudy starting overnight and breezy in the afternoon.'\n",
            " 'Mostly cloudy starting in the morning and breezy in the evening.'\n",
            " 'Foggy starting in the afternoon continuing until night.'\n",
            " 'Foggy until night.'\n",
            " 'Foggy starting in the morning continuing until night.'\n",
            " 'Foggy until evening.' 'Foggy starting in the morning.'\n",
            " 'Partly cloudy starting overnight continuing until evening.'\n",
            " 'Partly cloudy starting overnight continuing until evening and breezy starting in the morning continuing until evening.'\n",
            " 'Breezy starting overnight continuing until morning and foggy in the evening.'\n",
            " 'Mostly cloudy throughout the day and breezy starting in the morning continuing until evening.'\n",
            " 'Partly cloudy until evening and breezy starting in the morning continuing until afternoon.'\n",
            " 'Mostly cloudy starting in the afternoon continuing until night.'\n",
            " 'Breezy starting overnight continuing until afternoon and mostly cloudy starting overnight continuing until evening.'\n",
            " 'Mostly cloudy throughout the day and windy starting in the morning continuing until evening.'\n",
            " 'Breezy and partly cloudy in the afternoon.'\n",
            " 'Mostly cloudy starting overnight and breezy starting in the morning continuing until afternoon.'\n",
            " 'Partly cloudy until night and breezy starting in the morning continuing until afternoon.'\n",
            " 'Breezy and mostly cloudy overnight.'\n",
            " 'Mostly cloudy throughout the day and breezy overnight.'\n",
            " 'Mostly cloudy throughout the day and breezy starting in the morning continuing until afternoon.'\n",
            " 'Partly cloudy throughout the day and breezy in the morning.'\n",
            " 'Partly cloudy starting in the morning continuing until evening and breezy starting in the afternoon continuing until evening.'\n",
            " 'Partly cloudy throughout the day and breezy starting in the afternoon continuing until evening.'\n",
            " 'Mostly cloudy starting overnight and breezy in the morning.'\n",
            " 'Partly cloudy starting in the afternoon and breezy in the afternoon.'\n",
            " 'Partly cloudy starting in the morning and breezy in the evening.'\n",
            " 'Partly cloudy until evening and breezy in the morning.'\n",
            " 'Partly cloudy starting overnight continuing until evening and breezy starting in the morning continuing until afternoon.'\n",
            " 'Partly cloudy starting overnight continuing until evening and breezy in the evening.'\n",
            " 'Mostly cloudy throughout the day and breezy starting in the evening.'\n",
            " 'Mostly cloudy throughout the day and windy starting in the morning continuing until night.'\n",
            " 'Breezy starting overnight continuing until morning and partly cloudy starting in the morning.'\n",
            " 'Mostly cloudy starting in the morning and breezy overnight.'\n",
            " 'Overcast throughout the day and breezy starting overnight continuing until morning.'\n",
            " 'Partly cloudy throughout the day and breezy in the evening.'\n",
            " 'Mostly cloudy until evening and breezy starting in the morning continuing until afternoon.'\n",
            " 'Mostly cloudy until night and breezy in the evening.'\n",
            " 'Partly cloudy starting in the evening.'\n",
            " 'Overcast starting in the morning.'\n",
            " 'Mostly cloudy starting overnight continuing until evening and breezy starting overnight continuing until morning.'\n",
            " 'Partly cloudy starting overnight continuing until morning and breezy starting in the morning continuing until afternoon.'\n",
            " 'Partly cloudy until evening and breezy starting in the morning continuing until evening.'\n",
            " 'Breezy starting in the morning continuing until afternoon and partly cloudy starting in the morning.'\n",
            " 'Partly cloudy starting in the morning and breezy starting in the afternoon continuing until evening.'\n",
            " 'Mostly cloudy starting overnight continuing until morning.'\n",
            " 'Mostly cloudy throughout the day and breezy starting overnight continuing until afternoon.'\n",
            " 'Breezy starting overnight continuing until morning and foggy overnight.'\n",
            " 'Mostly cloudy throughout the day and breezy starting overnight continuing until morning.'\n",
            " 'Overcast throughout the day and breezy in the morning.'\n",
            " 'Overcast throughout the day and breezy in the evening.'\n",
            " 'Mostly cloudy starting in the morning continuing until night and breezy in the afternoon.'\n",
            " 'Mostly cloudy until night and breezy starting in the evening continuing until night.'\n",
            " 'Partly cloudy until night and breezy in the morning.'\n",
            " 'Partly cloudy until evening and breezy overnight.'\n",
            " 'Partly cloudy starting overnight continuing until night and windy starting in the morning continuing until afternoon.'\n",
            " 'Breezy starting in the morning continuing until afternoon and mostly cloudy starting in the morning.'\n",
            " 'Foggy starting overnight continuing until morning and breezy starting in the evening.'\n",
            " 'Mostly cloudy until night and breezy starting in the afternoon.'\n",
            " 'Foggy in the afternoon.'\n",
            " 'Mostly cloudy until night and breezy starting in the afternoon continuing until night.'\n",
            " 'Foggy starting overnight continuing until morning and breezy starting in the evening continuing until night.'\n",
            " 'Breezy until afternoon and mostly cloudy throughout the day.'\n",
            " 'Mostly cloudy throughout the day and breezy starting in the morning continuing until night.'\n",
            " 'Partly cloudy starting overnight continuing until evening and breezy in the morning.'\n",
            " 'Mostly cloudy starting in the morning and breezy in the afternoon.'\n",
            " 'Mostly cloudy starting overnight continuing until night and breezy starting in the morning continuing until evening.'\n",
            " 'Foggy starting overnight continuing until morning and breezy starting in the morning continuing until afternoon.'\n",
            " 'Mostly cloudy until evening and windy starting in the morning continuing until afternoon.'\n",
            " 'Foggy starting overnight continuing until afternoon and breezy in the morning.'\n",
            " 'Foggy starting in the morning continuing until afternoon and breezy starting in the evening.'\n",
            " 'Partly cloudy starting overnight and breezy starting in the morning continuing until afternoon.'\n",
            " 'Foggy starting overnight continuing until morning and breezy in the afternoon.'\n",
            " 'Mostly cloudy starting overnight and breezy starting in the afternoon continuing until evening.'\n",
            " 'Overcast throughout the day and breezy starting overnight continuing until afternoon.'\n",
            " 'Partly cloudy starting in the morning continuing until evening and breezy in the afternoon.'\n",
            " 'Partly cloudy starting in the morning continuing until night and breezy starting in the afternoon continuing until evening.'\n",
            " 'Mostly cloudy until night and breezy starting in the evening.'\n",
            " 'Breezy in the morning and mostly cloudy starting in the morning.'\n",
            " 'Mostly cloudy until night and breezy starting in the morning continuing until evening.'\n",
            " 'Partly cloudy starting overnight continuing until evening and windy starting in the morning continuing until evening.'\n",
            " 'Breezy in the morning and partly cloudy starting in the evening continuing until night.'\n",
            " 'Partly cloudy overnight and breezy starting in the morning continuing until afternoon.'\n",
            " 'Light rain in the morning.' 'Light rain until morning.'\n",
            " 'Light rain in the morning and afternoon.'\n",
            " 'Partly cloudy starting in the morning continuing until night and breezy starting in the morning continuing until afternoon.'\n",
            " 'Breezy starting in the afternoon continuing until night and mostly cloudy starting in the evening.'\n",
            " 'Mostly cloudy throughout the day and breezy starting in the evening continuing until night.'\n",
            " 'Foggy starting in the afternoon and breezy starting in the afternoon continuing until evening.'\n",
            " 'Breezy and foggy until morning.'\n",
            " 'Mostly cloudy until night and breezy starting overnight continuing until morning.'\n",
            " 'Partly cloudy starting overnight continuing until night and breezy in the morning.'\n",
            " 'Partly cloudy starting overnight continuing until night and breezy in the afternoon.'\n",
            " 'Mostly cloudy starting in the morning and breezy starting in the afternoon continuing until evening.'\n",
            " 'Partly cloudy starting overnight and breezy starting in the evening.'\n",
            " 'Breezy overnight and overcast throughout the day.'\n",
            " 'Partly cloudy until night and breezy in the afternoon.'\n",
            " 'Mostly cloudy starting overnight and breezy starting in the evening.'\n",
            " 'Breezy overnight and partly cloudy until evening.'\n",
            " 'Mostly cloudy starting in the evening.'\n",
            " 'Mostly cloudy throughout the day and breezy starting in the afternoon.'\n",
            " 'Mostly cloudy throughout the day and breezy starting in the afternoon continuing until evening.'\n",
            " 'Mostly cloudy until night and windy starting in the morning continuing until afternoon.'\n",
            " 'Breezy and foggy starting in the evening.'\n",
            " 'Breezy overnight and partly cloudy throughout the day.'\n",
            " 'Overcast throughout the day and breezy starting in the evening.'\n",
            " 'Breezy until evening and foggy in the morning.'\n",
            " 'Breezy overnight and mostly cloudy throughout the day.'\n",
            " 'Partly cloudy until evening and breezy in the afternoon.'\n",
            " 'Partly cloudy starting in the morning and breezy starting in the morning continuing until afternoon.'\n",
            " 'Mostly cloudy until evening and breezy in the evening.'\n",
            " 'Windy in the afternoon.' 'Overcast until morning.'\n",
            " 'Mostly cloudy overnight.'\n",
            " 'Foggy starting in the morning continuing until evening and breezy in the evening.'\n",
            " 'Breezy starting overnight continuing until morning.'\n",
            " 'Breezy starting in the afternoon continuing until evening and foggy starting in the evening.'\n",
            " 'Mostly cloudy until night and breezy overnight.'\n",
            " 'Mostly cloudy starting in the morning and windy in the evening.'\n",
            " 'Partly cloudy throughout the day and windy starting in the morning continuing until afternoon.'\n",
            " 'Breezy until afternoon and overcast throughout the day.'\n",
            " 'Breezy in the morning and foggy in the evening.'\n",
            " 'Breezy starting in the afternoon continuing until evening and foggy in the evening.'\n",
            " 'Breezy starting in the morning continuing until night.'\n",
            " 'Breezy in the morning and mostly cloudy starting in the evening.'\n",
            " 'Mostly cloudy until evening and breezy in the afternoon.'\n",
            " 'Mostly cloudy until night and breezy starting in the afternoon continuing until evening.'\n",
            " 'Mostly cloudy until evening and breezy starting overnight continuing until morning.'\n",
            " 'Overcast throughout the day and breezy in the afternoon.'\n",
            " 'Overcast throughout the day and breezy starting in the morning continuing until evening.'\n",
            " 'Overcast throughout the day and breezy overnight.'\n",
            " 'Overcast starting in the afternoon.'\n",
            " 'Partly cloudy throughout the day and breezy in the afternoon.'\n",
            " 'Light rain starting overnight.' 'Drizzle starting in the evening.'\n",
            " 'Drizzle until morning.' 'Rain throughout the day.' 'Rain until morning.'\n",
            " 'Light rain overnight.' 'Rain until afternoon.']\n",
            "<class 'pandas.core.frame.DataFrame'>\n",
            "RangeIndex: 96453 entries, 0 to 96452\n",
            "Data columns (total 15 columns):\n",
            " #   Column                    Non-Null Count  Dtype  \n",
            "---  ------                    --------------  -----  \n",
            " 0   Summary                   96453 non-null  object \n",
            " 1   Precip Type               95936 non-null  object \n",
            " 2   Temperature (C)           96453 non-null  float64\n",
            " 3   Apparent Temperature (C)  96453 non-null  float64\n",
            " 4   Humidity                  96453 non-null  float64\n",
            " 5   Wind Speed (km/h)         96453 non-null  float64\n",
            " 6   Wind Bearing (degrees)    96453 non-null  float64\n",
            " 7   Visibility (km)           96453 non-null  float64\n",
            " 8   Loud Cover                96453 non-null  float64\n",
            " 9   Pressure (millibars)      96453 non-null  float64\n",
            " 10  Daily Summary             96453 non-null  object \n",
            " 11  Year                      96453 non-null  int64  \n",
            " 12  Month                     96453 non-null  int64  \n",
            " 13  Day                       96453 non-null  int64  \n",
            " 14  Hour                      96453 non-null  int64  \n",
            "dtypes: float64(8), int64(4), object(3)\n",
            "memory usage: 11.0+ MB\n",
            "None\n"
          ]
        }
      ]
    },
    {
      "cell_type": "code",
      "source": [
        "#Get rid of unnecessary columns\n",
        "data.drop(columns=[\"Summary\",\"Daily Summary\",\"Precip Type\",\"Loud Cover\"], inplace=True)"
      ],
      "metadata": {
        "id": "sqwuk4ob-s_n"
      },
      "execution_count": 161,
      "outputs": []
    },
    {
      "cell_type": "code",
      "source": [
        "print(data)"
      ],
      "metadata": {
        "colab": {
          "base_uri": "https://localhost:8080/"
        },
        "id": "i5d7v7q2FmYi",
        "outputId": "de37ddfa-684f-442f-a689-fd55497e267c"
      },
      "execution_count": 162,
      "outputs": [
        {
          "output_type": "stream",
          "name": "stdout",
          "text": [
            "       Temperature (C)  Apparent Temperature (C)  Humidity  Wind Speed (km/h)  \\\n",
            "0             9.472222                  7.388889      0.89            14.1197   \n",
            "1             9.355556                  7.227778      0.86            14.2646   \n",
            "2             9.377778                  9.377778      0.89             3.9284   \n",
            "3             8.288889                  5.944444      0.83            14.1036   \n",
            "4             8.755556                  6.977778      0.83            11.0446   \n",
            "...                ...                       ...       ...                ...   \n",
            "96448        26.016667                 26.016667      0.43            10.9963   \n",
            "96449        24.583333                 24.583333      0.48            10.0947   \n",
            "96450        22.038889                 22.038889      0.56             8.9838   \n",
            "96451        21.522222                 21.522222      0.60            10.5294   \n",
            "96452        20.438889                 20.438889      0.61             5.8765   \n",
            "\n",
            "       Wind Bearing (degrees)  Visibility (km)  Pressure (millibars)  Year  \\\n",
            "0                       251.0          15.8263               1015.13  2006   \n",
            "1                       259.0          15.8263               1015.63  2006   \n",
            "2                       204.0          14.9569               1015.94  2006   \n",
            "3                       269.0          15.8263               1016.41  2006   \n",
            "4                       259.0          15.8263               1016.51  2006   \n",
            "...                       ...              ...                   ...   ...   \n",
            "96448                    31.0          16.1000               1014.36  2016   \n",
            "96449                    20.0          15.5526               1015.16  2016   \n",
            "96450                    30.0          16.1000               1015.66  2016   \n",
            "96451                    20.0          16.1000               1015.95  2016   \n",
            "96452                    39.0          15.5204               1016.16  2016   \n",
            "\n",
            "       Month  Day  Hour  \n",
            "0          4    1     0  \n",
            "1          4    1     1  \n",
            "2          4    1     2  \n",
            "3          4    1     3  \n",
            "4          4    1     4  \n",
            "...      ...  ...   ...  \n",
            "96448      9    9    19  \n",
            "96449      9    9    20  \n",
            "96450      9    9    21  \n",
            "96451      9    9    22  \n",
            "96452      9    9    23  \n",
            "\n",
            "[96453 rows x 11 columns]\n"
          ]
        }
      ]
    },
    {
      "cell_type": "code",
      "source": [
        "print(data.info())"
      ],
      "metadata": {
        "colab": {
          "base_uri": "https://localhost:8080/"
        },
        "id": "sM4tqPYaFvai",
        "outputId": "013cc5e1-a29b-4242-b058-5483f8d8c4c4"
      },
      "execution_count": 163,
      "outputs": [
        {
          "output_type": "stream",
          "name": "stdout",
          "text": [
            "<class 'pandas.core.frame.DataFrame'>\n",
            "RangeIndex: 96453 entries, 0 to 96452\n",
            "Data columns (total 11 columns):\n",
            " #   Column                    Non-Null Count  Dtype  \n",
            "---  ------                    --------------  -----  \n",
            " 0   Temperature (C)           96453 non-null  float64\n",
            " 1   Apparent Temperature (C)  96453 non-null  float64\n",
            " 2   Humidity                  96453 non-null  float64\n",
            " 3   Wind Speed (km/h)         96453 non-null  float64\n",
            " 4   Wind Bearing (degrees)    96453 non-null  float64\n",
            " 5   Visibility (km)           96453 non-null  float64\n",
            " 6   Pressure (millibars)      96453 non-null  float64\n",
            " 7   Year                      96453 non-null  int64  \n",
            " 8   Month                     96453 non-null  int64  \n",
            " 9   Day                       96453 non-null  int64  \n",
            " 10  Hour                      96453 non-null  int64  \n",
            "dtypes: float64(7), int64(4)\n",
            "memory usage: 8.1 MB\n",
            "None\n"
          ]
        }
      ]
    }
  ]
}